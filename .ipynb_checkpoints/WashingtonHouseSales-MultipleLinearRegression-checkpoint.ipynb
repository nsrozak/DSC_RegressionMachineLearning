{
 "cells": [
  {
   "cell_type": "markdown",
   "metadata": {},
   "source": [
    "# Housing Prices in King County, WA: Multiple Linear Regression\n",
    "Goal\n",
    "- Use Multiple Linear Regression to create a model that predicts the sale price of homes given various attributes about the house\n",
    "\n",
    "## Obtain Data"
   ]
  },
  {
   "cell_type": "code",
   "execution_count": 6,
   "metadata": {},
   "outputs": [],
   "source": [
    "# global imports\n",
    "\n",
    "# sklearn features\n",
    "from sklearn.model_selection import GridSearchCV\n",
    "from sklearn.model_selection import RandomizedSearchCV\n",
    "from sklearn.metrics import mean_absolute_error\n",
    "from sklearn.metrics import mean_squared_error\n",
    "from sklearn.metrics import r2_score\n",
    "from sklearn.linear_model import LinearRegression"
   ]
  },
  {
   "cell_type": "code",
   "execution_count": 2,
   "metadata": {},
   "outputs": [
    {
     "name": "stdout",
     "output_type": "stream",
     "text": [
      "(3181, 18)\n",
      "(682, 18)\n",
      "(682, 18)\n",
      "(3181, 1)\n",
      "(682, 1)\n",
      "(682, 1)\n"
     ]
    }
   ],
   "source": [
    "# import dataframes \n",
    "%store -r dfs\n",
    "\n",
    "# assign dataframes to variables\n",
    "X_train = dfs[0]\n",
    "X_val = dfs[1]\n",
    "X_test = dfs[2]\n",
    "y_train = dfs[3]\n",
    "y_val = dfs[4]\n",
    "y_test = dfs[5] \n",
    "\n",
    "# check importing data frames worked\n",
    "df = [X_train, X_val, X_test, y_train, y_val, y_test]\n",
    "for d in df:\n",
    "    print(d.shape)"
   ]
  },
  {
   "cell_type": "markdown",
   "metadata": {},
   "source": [
    "## Train Multiple Linear Regression Model"
   ]
  },
  {
   "cell_type": "code",
   "execution_count": 9,
   "metadata": {},
   "outputs": [],
   "source": [
    "# function that evaluates the model\n",
    "def evaluate(model, test_pred, test_resp):\n",
    "    # predictions\n",
    "    predict = model.predict(test_pred)\n",
    "    # metrics on test data\n",
    "    test_mae = mean_absolute_error(test_resp,  predict)\n",
    "    test_mse = mean_squared_error(test_resp,  predict)\n",
    "    # r squared\n",
    "    rsq = r2_score(test_resp, predict)\n",
    "    # print results\n",
    "    print(\"Mean Absolute Error: %s\" %test_mae)\n",
    "    print(\"Mean Squared Error: %s\" %test_mse)\n",
    "    print(\"R Squared: %s\" %rsq)"
   ]
  },
  {
   "cell_type": "code",
   "execution_count": 10,
   "metadata": {},
   "outputs": [
    {
     "name": "stdout",
     "output_type": "stream",
     "text": [
      "Mean Absolute Error: 130071.78138819354\n",
      "Mean Squared Error: 44712075905.598595\n",
      "R Squared: 0.7086475860406922\n"
     ]
    }
   ],
   "source": [
    "mlr_model = LinearRegression()\n",
    "mlr_model.fit(X_train, y_train)\n",
    "evaluate(mlr_model, X_test, y_test.values.ravel())"
   ]
  },
  {
   "cell_type": "code",
   "execution_count": 11,
   "metadata": {},
   "outputs": [
    {
     "data": {
      "text/plain": [
       "array([4.92157615e+18])"
      ]
     },
     "execution_count": 11,
     "metadata": {},
     "output_type": "execute_result"
    }
   ],
   "source": [
    "mlr_model.intercept_"
   ]
  },
  {
   "cell_type": "code",
   "execution_count": 13,
   "metadata": {},
   "outputs": [
    {
     "data": {
      "text/plain": [
       "array([[-3.12686883e+05,  3.33539951e+05, -2.47361670e+05,\n",
       "        -7.83724664e+03,  3.64077805e+05,  2.84041828e+05,\n",
       "         1.22196788e+05,  2.39488190e+06,  8.48167856e+05,\n",
       "        -2.22220967e+05,  4.38686563e+04, -4.92157615e+18,\n",
       "        -4.92157615e+18, -4.92157615e+18, -4.92157615e+18,\n",
       "        -4.92157615e+18, -4.92157615e+18, -4.92157615e+18]])"
      ]
     },
     "execution_count": 13,
     "metadata": {},
     "output_type": "execute_result"
    }
   ],
   "source": [
    "mlr_model.coef_"
   ]
  },
  {
   "cell_type": "markdown",
   "metadata": {},
   "source": [
    "THINGS TO DO: MAYBE MAKE A NEW STANDARD SCALER DATASET FOR THE REGRESSION CASE, BUT NEED TO MAKE SURE THE TEST AND TRAIN VALUES ARE THE SAME"
   ]
  }
 ],
 "metadata": {
  "kernelspec": {
   "display_name": "Python 3",
   "language": "python",
   "name": "python3"
  },
  "language_info": {
   "codemirror_mode": {
    "name": "ipython",
    "version": 3
   },
   "file_extension": ".py",
   "mimetype": "text/x-python",
   "name": "python",
   "nbconvert_exporter": "python",
   "pygments_lexer": "ipython3",
   "version": "3.7.1"
  }
 },
 "nbformat": 4,
 "nbformat_minor": 2
}
