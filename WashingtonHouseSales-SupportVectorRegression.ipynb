{
 "cells": [
  {
   "cell_type": "markdown",
   "metadata": {},
   "source": [
    "# Housing Prices in King County, WA: Support Vector Regression\n",
    "Goal\n",
    "- Use Support Vector Regression to create a model that predicts the sale price of homes given various attributes about the house\n",
    "\n",
    "## Obtain Data"
   ]
  },
  {
   "cell_type": "code",
   "execution_count": 2,
   "metadata": {},
   "outputs": [],
   "source": [
    "# global imports\n",
    "\n",
    "# sklearn features\n",
    "from sklearn.model_selection import GridSearchCV\n",
    "from sklearn.model_selection import RandomizedSearchCV\n",
    "from sklearn.metrics import mean_absolute_error\n",
    "from sklearn.metrics import mean_squared_error\n",
    "from sklearn.svm import SVR"
   ]
  },
  {
   "cell_type": "code",
   "execution_count": 3,
   "metadata": {},
   "outputs": [
    {
     "name": "stdout",
     "output_type": "stream",
     "text": [
      "(3181, 18)\n",
      "(682, 18)\n",
      "(682, 18)\n",
      "(3181, 1)\n",
      "(682, 1)\n",
      "(682, 1)\n"
     ]
    }
   ],
   "source": [
    "# import dataframes \n",
    "%store -r dfs\n",
    "\n",
    "# assign dataframes to variables\n",
    "X_train = dfs[0]\n",
    "X_val = dfs[1]\n",
    "X_test = dfs[2]\n",
    "y_train = dfs[3]\n",
    "y_val = dfs[4]\n",
    "y_test = dfs[5] \n",
    "\n",
    "# check importing data frames worked\n",
    "df = [X_train, X_val, X_test, y_train, y_val, y_test]\n",
    "for d in df:\n",
    "    print(d.shape)"
   ]
  },
  {
   "cell_type": "markdown",
   "metadata": {},
   "source": [
    "## Train Support Vector Regression Model\n",
    "Model Evaluation\n",
    "- Use model to make predictions for price given test predictors\n",
    "- Compute metrics to compare predictions with actual price for test dataset\n",
    "    - Minimize mean absolute error and mean squared error\n",
    "        - Mean absolute error: the average difference between the observed price and predicted price\n",
    "        - Mean squared error: the average squared difference between observed price and predicted price\n",
    "            - Gives a higher weight than mean absolute error for large errors\n",
    "\n",
    "Steps to Train the Random Forest Model\n",
    "1. Train a base model with default parameters\n",
    "2. Evaluate base model using validation dataset\n",
    "3. Train a model with preliminary best parameters chosen through random search\n",
    "    - Test a wide range of parameter values\n",
    "        - Choose the set of parameters that minimizes mean squared error\n",
    "    - Random search is appropriate for preliminary estimates\n",
    "        - Has a faster runtime than grid search\n",
    "            - This is because it does not try all parameter values\n",
    "4. Evaluate random search model using validation dataset\n",
    "5. Train a model with best parameters chosen through grid search\n",
    "    - Test a narrow range of parameter values\n",
    "        - Choose the set of parameters that minimizes mean squared error\n",
    "    - Grid search is appropriate for final estimates\n",
    "        - Tries all combinations of parameters\n",
    "6. Evaluate model using validation dataset"
   ]
  },
  {
   "cell_type": "code",
   "execution_count": 4,
   "metadata": {},
   "outputs": [],
   "source": [
    "# general support vector regressor\n",
    "svr_model = SVR()\n",
    "\n",
    "# function that evaluates the model\n",
    "def evaluate(model, test_pred, test_resp):\n",
    "    # predictions\n",
    "    predict = model.predict(test_pred)\n",
    "    # metrics on test data\n",
    "    test_mae = mean_absolute_error(test_resp,  predict)\n",
    "    test_mse = mean_squared_error(test_resp,  predict)\n",
    "    # print results\n",
    "    print(\"Mean Absolute Error: %s\" %test_mae)\n",
    "    print(\"Mean Squared Error: %s\" %test_mse)"
   ]
  },
  {
   "cell_type": "code",
   "execution_count": 5,
   "metadata": {},
   "outputs": [
    {
     "name": "stdout",
     "output_type": "stream",
     "text": [
      "Mean Absolute Error: 210590.9825763046\n",
      "Mean Squared Error: 101625618270.59404\n"
     ]
    }
   ],
   "source": [
    "# evaluate the base model\n",
    "base_model = SVR(gamma = 'auto')\n",
    "base_model.fit(X_train, y_train.values.ravel())\n",
    "evaluate(base_model, X_val, y_val.values.ravel())"
   ]
  },
  {
   "cell_type": "code",
   "execution_count": 6,
   "metadata": {},
   "outputs": [
    {
     "data": {
      "text/plain": [
       "{'kernel': 'linear', 'gamma': 'auto', 'epsilon': 0.1, 'degree': 5, 'C': 100}"
      ]
     },
     "execution_count": 6,
     "metadata": {},
     "output_type": "execute_result"
    }
   ],
   "source": [
    "# random search grid\n",
    "random_grid = {\n",
    "    'kernel': ['linear', 'poly', 'rbf', 'sigmoid'],\n",
    "    'degree': [1, 3, 5, 7],\n",
    "    'gamma': ['auto', 'scale'],\n",
    "    'C': [0.1, 1, 10, 100],\n",
    "    'epsilon': [0.01, 0.1, 1, 2]}\n",
    "\n",
    "# fit random search\n",
    "svr_random = RandomizedSearchCV(estimator = svr_model, param_distributions = random_grid, n_iter = \n",
    "                               100, cv = 3, scoring = 'neg_mean_squared_error')\n",
    "svr_random.fit(X_train, y_train.values.ravel())\n",
    "\n",
    "# output best parameters from random search\n",
    "svr_random.best_params_"
   ]
  },
  {
   "cell_type": "code",
   "execution_count": 7,
   "metadata": {},
   "outputs": [
    {
     "name": "stdout",
     "output_type": "stream",
     "text": [
      "Mean Absolute Error: 193774.88883209048\n",
      "Mean Squared Error: 91739650596.68297\n"
     ]
    }
   ],
   "source": [
    "# evaluate best random search model\n",
    "best_random = svr_random.best_estimator_\n",
    "evaluate(best_random, X_val, y_val.values.ravel())"
   ]
  },
  {
   "cell_type": "code",
   "execution_count": 8,
   "metadata": {},
   "outputs": [
    {
     "data": {
      "text/plain": [
       "{'C': 150, 'degree': 4, 'epsilon': 0.0075, 'gamma': 'auto', 'kernel': 'linear'}"
      ]
     },
     "execution_count": 8,
     "metadata": {},
     "output_type": "execute_result"
    }
   ],
   "source": [
    "# grid search parameters\n",
    "params_grid = {\n",
    "    'kernel': ['linear'],\n",
    "    'gamma': ['auto'],\n",
    "    'epsilon': [0.0075, 0.01, 0.0125],\n",
    "    'degree': [4, 5, 6],\n",
    "    'C': [50, 75, 100, 125, 150]\n",
    "}\n",
    "\n",
    "# fit grid search\n",
    "svr_grid = GridSearchCV(estimator = svr_model, param_grid = params_grid, cv = 3, scoring = \n",
    "                       'neg_mean_squared_error')\n",
    "svr_grid.fit(X_train, y_train.values.ravel())\n",
    "\n",
    "# output best parameters from grid search\n",
    "svr_grid.best_params_"
   ]
  },
  {
   "cell_type": "code",
   "execution_count": 9,
   "metadata": {},
   "outputs": [
    {
     "name": "stdout",
     "output_type": "stream",
     "text": [
      "Mean Absolute Error: 187840.9805491457\n",
      "Mean Squared Error: 88153486487.66376\n"
     ]
    }
   ],
   "source": [
    "# evaluate best grid search model\n",
    "best_grid = svr_grid.best_estimator_\n",
    "evaluate(best_grid, X_val, y_val.values.ravel())"
   ]
  },
  {
   "cell_type": "markdown",
   "metadata": {},
   "source": [
    "## Final Support Vector Regressor Model\n",
    "- Train a model with best parameters found from grid search\n",
    "- Evaluate the model using the test dataset\n",
    "    - The model is not overfitted\n",
    "        - The mean absolute error for training and test datasets are similar\n",
    "        - The mean squared error for training and test datasets are similar"
   ]
  },
  {
   "cell_type": "code",
   "execution_count": 11,
   "metadata": {},
   "outputs": [
    {
     "name": "stdout",
     "output_type": "stream",
     "text": [
      "Mean Absolute Error: 203642.65827867747\n",
      "Mean Squared Error: 142434180920.8759\n"
     ]
    }
   ],
   "source": [
    "# check model performance on the test dataset\n",
    "final_model = SVR(C = 150, degree = 4, epsilon = 0.0075, gamma = 'auto', kernel = 'linear')\n",
    "final_model.fit(X_train, y_train.values.ravel())\n",
    "evaluate(final_model, X_test, y_test.values.ravel())"
   ]
  },
  {
   "cell_type": "code",
   "execution_count": null,
   "metadata": {},
   "outputs": [],
   "source": []
  }
 ],
 "metadata": {
  "kernelspec": {
   "display_name": "Python 3",
   "language": "python",
   "name": "python3"
  }
 },
 "nbformat": 4,
 "nbformat_minor": 2
}
