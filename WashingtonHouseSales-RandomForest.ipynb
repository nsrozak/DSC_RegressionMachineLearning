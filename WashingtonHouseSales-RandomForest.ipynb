{
 "cells": [
  {
   "cell_type": "markdown",
   "metadata": {},
   "source": [
    "# Housing Prices in King County, WA: Random Forest\n",
    "Goal\n",
    "- Use Random Forests to create a model that predicts the sale price of homes given various attributes about the house\n",
    "\n",
    "## Obtain Data"
   ]
  },
  {
   "cell_type": "code",
   "execution_count": 1,
   "metadata": {},
   "outputs": [],
   "source": [
    "# global imports\n",
    "\n",
    "# sklearn features\n",
    "from sklearn.model_selection import GridSearchCV\n",
    "from sklearn.model_selection import RandomizedSearchCV\n",
    "from sklearn.metrics import mean_absolute_error\n",
    "from sklearn.metrics import mean_squared_error\n",
    "from sklearn.ensemble import RandomForestRegressor"
   ]
  },
  {
   "cell_type": "code",
   "execution_count": 2,
   "metadata": {},
   "outputs": [
    {
     "name": "stdout",
     "output_type": "stream",
     "text": [
      "(3181, 18)\n",
      "(682, 18)\n",
      "(682, 18)\n",
      "(3181, 1)\n",
      "(682, 1)\n",
      "(682, 1)\n"
     ]
    }
   ],
   "source": [
    "# import dataframes \n",
    "%store -r dfs\n",
    "\n",
    "# assign dataframes to variables\n",
    "X_train = dfs[0]\n",
    "X_val = dfs[1]\n",
    "X_test = dfs[2]\n",
    "y_train = dfs[3]\n",
    "y_val = dfs[4]\n",
    "y_test = dfs[5] \n",
    "\n",
    "# check importing data frames worked\n",
    "df = [X_train, X_val, X_test, y_train, y_val, y_test]\n",
    "for d in df:\n",
    "    print(d.shape)"
   ]
  },
  {
   "cell_type": "markdown",
   "metadata": {},
   "source": [
    "## Train Random Forest Model\n",
    "Model Evaluation\n",
    "- Use model to make predictions for price given test predictors\n",
    "- Compute metrics to compare predictions with actual price for test dataset\n",
    "    - Minimize mean absolute error and mean squared error\n",
    "        - Mean absolute error: the average difference between the observed price and predicted price\n",
    "        - Mean squared error: the average squared difference between observed price and predicted price\n",
    "            - Gives a higher weight than mean absolute error for large errors\n",
    "\n",
    "Steps to Train the Random Forest Model\n",
    "1. Train a base model with default parameters\n",
    "2. Evaluate base model using validation dataset\n",
    "3. Train a model with preliminary best parameters chosen through random search\n",
    "    - Test a wide range of parameter values\n",
    "        - Choose the set of parameters that minimizes mean squared error\n",
    "    - Random search is appropriate for preliminary estimates\n",
    "        - Has a faster runtime than grid search\n",
    "            - This is because it does not try all parameter values\n",
    "4. Evaluate random search model using validation dataset\n",
    "5. Train a model with best parameters chosen through grid search\n",
    "    - Test a narrow range of parameter values\n",
    "        - Choose the set of parameters that minimizes mean squared error\n",
    "    - Grid search is appropriate for final estimates\n",
    "        - Tries all combinations of parameters\n",
    "6. Evaluate model using validation dataset"
   ]
  },
  {
   "cell_type": "code",
   "execution_count": 11,
   "metadata": {},
   "outputs": [],
   "source": [
    "# general random forest regressor\n",
    "rf_model = RandomForestRegressor()\n",
    "\n",
    "# function that evaluates the model\n",
    "def evaluate(model, test_pred, test_resp):\n",
    "    # predictions\n",
    "    predict = model.predict(test_pred)\n",
    "    # metrics on test data\n",
    "    test_mae = mean_absolute_error(test_resp,  predict)\n",
    "    test_mse = mean_squared_error(test_resp,  predict)\n",
    "    # print results\n",
    "    print(\"Mean Absolute Error: %s\" %test_mae)\n",
    "    print(\"Mean Squared Error: %s\" %test_mse)"
   ]
  },
  {
   "cell_type": "code",
   "execution_count": 12,
   "metadata": {},
   "outputs": [
    {
     "name": "stdout",
     "output_type": "stream",
     "text": [
      "Mean Absolute Error: 124628.17442109779\n",
      "Mean Squared Error: 43352277985.34949\n"
     ]
    }
   ],
   "source": [
    "# evaluate the base model\n",
    "base_model = RandomForestRegressor(n_estimators = 10, random_state = 123)\n",
    "base_model.fit(X_train, y_train.values.ravel())\n",
    "evaluate(base_model, X_val, y_val.values.ravel())"
   ]
  },
  {
   "cell_type": "code",
   "execution_count": 5,
   "metadata": {},
   "outputs": [
    {
     "data": {
      "text/plain": [
       "{'n_estimators': 2000,\n",
       " 'min_samples_split': 5,\n",
       " 'min_samples_leaf': 2,\n",
       " 'max_features': 'sqrt',\n",
       " 'max_depth': 75,\n",
       " 'bootstrap': False}"
      ]
     },
     "execution_count": 5,
     "metadata": {},
     "output_type": "execute_result"
    }
   ],
   "source": [
    "# random search grid\n",
    "random_grid = {\n",
    "    'bootstrap': [True, False],\n",
    "    'max_depth': [None, 10, 25, 50, 75, 100],\n",
    "    'max_features': ['auto', 'sqrt'],\n",
    "    'min_samples_leaf': [1, 2, 4],\n",
    "    'min_samples_split': [2, 5, 10],\n",
    "    'n_estimators': [100, 500, 1000, 1500, 2000]}\n",
    "\n",
    "# fit random search\n",
    "rf_random = RandomizedSearchCV(estimator = rf_model, param_distributions = random_grid, n_iter = \n",
    "                               100, cv = 3, scoring = 'neg_mean_squared_error')\n",
    "rf_random.fit(X_train, y_train.values.ravel())\n",
    "\n",
    "# output best parameters from random search\n",
    "rf_random.best_params_"
   ]
  },
  {
   "cell_type": "code",
   "execution_count": 13,
   "metadata": {},
   "outputs": [
    {
     "name": "stdout",
     "output_type": "stream",
     "text": [
      "Mean Absolute Error: 115083.0792970653\n",
      "Mean Squared Error: 37131636642.76534\n"
     ]
    }
   ],
   "source": [
    "# evaluate best random search model\n",
    "best_random = rf_random.best_estimator_\n",
    "evaluate(best_random, X_val, y_val.values.ravel())"
   ]
  },
  {
   "cell_type": "code",
   "execution_count": 7,
   "metadata": {},
   "outputs": [
    {
     "data": {
      "text/plain": [
       "{'bootstrap': False,\n",
       " 'max_depth': 75,\n",
       " 'max_features': 'sqrt',\n",
       " 'min_samples_leaf': 2,\n",
       " 'min_samples_split': 5,\n",
       " 'n_estimators': 1800}"
      ]
     },
     "execution_count": 7,
     "metadata": {},
     "output_type": "execute_result"
    }
   ],
   "source": [
    "# grid search parameters\n",
    "params_grid = {\n",
    "    'bootstrap': [False],\n",
    "    'max_depth': [65, 75, 85],\n",
    "    'max_features': ['sqrt'],\n",
    "    'min_samples_leaf': [2,3],\n",
    "    'min_samples_split': [3, 5, 7],\n",
    "    'n_estimators': [1800, 2000, 2200]}\n",
    "\n",
    "# fit grid search\n",
    "rf_grid = GridSearchCV(estimator = rf_model, param_grid = params_grid, cv = 3, scoring = \n",
    "                       'neg_mean_squared_error')\n",
    "rf_grid.fit(X_train, y_train.values.ravel())\n",
    "\n",
    "# output best parameters from grid search\n",
    "rf_grid.best_params_"
   ]
  },
  {
   "cell_type": "code",
   "execution_count": 14,
   "metadata": {},
   "outputs": [
    {
     "name": "stdout",
     "output_type": "stream",
     "text": [
      "Mean Absolute Error: 115254.41338666176\n",
      "Mean Squared Error: 37129802086.589455\n"
     ]
    }
   ],
   "source": [
    "# evaluate best grid search model\n",
    "best_grid = rf_grid.best_estimator_\n",
    "evaluate(best_grid, X_val, y_val.values.ravel())"
   ]
  },
  {
   "cell_type": "markdown",
   "metadata": {},
   "source": [
    "## Final Random Forest Model\n",
    "- Train a model with best parameters found from grid search\n",
    "- Evaluate the model using the test dataset"
   ]
  },
  {
   "cell_type": "code",
   "execution_count": 15,
   "metadata": {},
   "outputs": [
    {
     "name": "stdout",
     "output_type": "stream",
     "text": [
      "Mean Absolute Error: 118306.92566531352\n",
      "Mean Squared Error: 46120275428.31522\n"
     ]
    }
   ],
   "source": [
    "# check model performance on the test dataset\n",
    "final_model = RandomForestRegressor(n_estimators = 1800, min_samples_split = 5, min_samples_leaf = \n",
    "                                    2, max_features = 'sqrt', bootstrap = False, max_depth = 75)\n",
    "final_model.fit(X_train, y_train.values.ravel())\n",
    "evaluate(final_model, X_test, y_test.values.ravel())"
   ]
  },
  {
   "cell_type": "markdown",
   "metadata": {},
   "source": [
    "## Examine Feature Importance\n",
    "### Important Features\n",
    "- 'sqftAbove'\n",
    "    - Data visualizations depict a positive, linear relationship between 'price' and 'sqftAbove'\n",
    "        - Typically, increases in above ground living space correlate with increases in price\n",
    "        - See \"Scatterplot of Sale Price vs Above Ground Living Space\" in the *WashingtonHouseSales-DataVisualization* notebook\n",
    "- 'bathroom'\n",
    "    - Data visualizations depicting the relationship between'price' and 'bathroom' show sale prices varies greatly depending on the number of bathrooms in a home\n",
    "        - Houses with more bathrooms tend to be sold for higher prices\n",
    "        - See \"Boxplot of Sale Price Grouped by Number of Bathrooms\" in the *WashingtonHouseSales-DataVisualization* notebook \n",
    "\n",
    "### Unimportant Features\n",
    "- 'location' (Vashon Island, North, East Rural, South Rural)\n",
    "    - Data visualizations depicting the relationship between 'location' and 'price' show are sold for similar prices in Vashon Island, North, East Rural, and South Rural\n",
    "        - See \"Boxplot of Sale Price Grouped by Location\" in the *WashingtonHouseSales-DataVisualization* notebook\n",
    "- 'waterfront'\n",
    "    - Data visualizations depicting the relationship between 'waterfront' and 'price' show the two categories for 'waterfront' have a similar price range\n",
    "        - See \"Boxplot of Sale Price Grouped by Waterfront\" in the *WashingtonHouseSales-DataVisualization* notebook"
   ]
  },
  {
   "cell_type": "code",
   "execution_count": 10,
   "metadata": {},
   "outputs": [
    {
     "data": {
      "text/plain": [
       "[['location_Vashon Island', 0.0003395784243543726],\n",
       " ['location_North', 0.0027051279121225636],\n",
       " ['location_East Rural', 0.003158919063874182],\n",
       " ['location_South Rural', 0.006449035848101613],\n",
       " ['waterfront', 0.008554047608073826],\n",
       " ['condition', 0.015863262312040827],\n",
       " ['location_Seattle', 0.021407641114138457],\n",
       " ['floors', 0.02560871550843141],\n",
       " ['bedroom', 0.03557651719609657],\n",
       " ['yrWorked', 0.04087033108935593],\n",
       " ['location_East Urban', 0.046498513627482044],\n",
       " ['yrBuilt', 0.05513950621847217],\n",
       " ['sqftLot', 0.0635883641299262],\n",
       " ['location_South Urban', 0.07778539152397673],\n",
       " ['sqftBelow', 0.0857958352041598],\n",
       " ['view', 0.09076148910324426],\n",
       " ['bathroom', 0.14813550556307842],\n",
       " ['sqftAbove', 0.271762218553071]]"
      ]
     },
     "execution_count": 10,
     "metadata": {},
     "output_type": "execute_result"
    }
   ],
   "source": [
    "# lists\n",
    "names = X_train.columns\n",
    "importance = final_model.feature_importances_\n",
    "importance_list = []\n",
    "# list of feature and its importance\n",
    "for ind, col in enumerate(names):\n",
    "    current = [col, importance[ind]]\n",
    "    importance_list.append(current)\n",
    "\n",
    "# order by list by feature importance\n",
    "sorted(importance_list, key = lambda x: x[1])"
   ]
  },
  {
   "cell_type": "code",
   "execution_count": null,
   "metadata": {},
   "outputs": [],
   "source": []
  }
 ],
 "metadata": {
  "kernelspec": {
   "display_name": "Python 3",
   "language": "python",
   "name": "python3"
  },
  "language_info": {
   "codemirror_mode": {
    "name": "ipython",
    "version": 3
   },
   "file_extension": ".py",
   "mimetype": "text/x-python",
   "name": "python",
   "nbconvert_exporter": "python",
   "pygments_lexer": "ipython3",
   "version": "3.7.1"
  }
 },
 "nbformat": 4,
 "nbformat_minor": 2
}
