{
 "cells": [
  {
   "cell_type": "markdown",
   "metadata": {},
   "source": [
    "# Housing Prices in King County, WA: Random Forest\n",
    "Goal\n",
    "- Use Random Forests to create a model that predicts the sale price of homes given various attributes about the house\n",
    "\n",
    "## Obtain Data"
   ]
  },
  {
   "cell_type": "code",
   "execution_count": 77,
   "metadata": {},
   "outputs": [],
   "source": [
    "# global imports\n",
    "\n",
    "# sklearn features\n",
    "from sklearn.model_selection import GridSearchCV\n",
    "from sklearn.model_selection import RandomizedSearchCV\n",
    "from sklearn.metrics import mean_absolute_error\n",
    "from sklearn.metrics import mean_squared_error\n",
    "from sklearn.ensemble import RandomForestRegressor\n",
    "\n",
    "# pandas features\n",
    "import pandas as pd\n",
    "\n",
    "# supress scientific notation\n",
    "pd.options.display.float_format = '{:.2f}'.format"
   ]
  },
  {
   "cell_type": "code",
   "execution_count": 2,
   "metadata": {},
   "outputs": [
    {
     "name": "stdout",
     "output_type": "stream",
     "text": [
      "(3181, 18)\n",
      "(682, 18)\n",
      "(682, 18)\n",
      "(3181, 1)\n",
      "(682, 1)\n",
      "(682, 1)\n"
     ]
    }
   ],
   "source": [
    "# import dataframes \n",
    "%store -r dfs\n",
    "\n",
    "# assign dataframes to variables\n",
    "X_train = dfs[0]\n",
    "X_val = dfs[1]\n",
    "X_test = dfs[2]\n",
    "y_train = dfs[3]\n",
    "y_val = dfs[4]\n",
    "y_test = dfs[5] \n",
    "\n",
    "# check importing data frames worked\n",
    "df = [X_train, X_val, X_test, y_train, y_val, y_test]\n",
    "for d in df:\n",
    "    print(d.shape)"
   ]
  },
  {
   "cell_type": "markdown",
   "metadata": {},
   "source": [
    "## Train Random Forest Model\n",
    "Model Evaluation\n",
    "- Use model to make predictions for price given test predictors\n",
    "- Compute metrics to compare predictions with actual price for test dataset\n",
    "    - Minimize mean absolute error and mean squared error\n",
    "        - Mean absolute error: the average difference between the observed price and predicted price\n",
    "        - Mean squared error: the average squared difference between observed price and predicted price\n",
    "            - Gives a higher weight than mean absolute error for large errors\n",
    "\n",
    "Steps to Train the Random Forest Model\n",
    "1. Train a base model with default parameters\n",
    "2. Evaluate base model using validation dataset\n",
    "3. Train a model with preliminary best parameters chosen through random search\n",
    "    - Test a wide range of parameter values\n",
    "        - Choose the set of parameters that minimizes mean squared error\n",
    "    - Random search is appropriate for preliminary estimates\n",
    "        - Has a faster runtime than grid search\n",
    "            - This is because it does not try all parameter values\n",
    "4. Evaluate random search model using validation dataset\n",
    "5. Train a model with best parameters chosen through grid search\n",
    "    - Test a narrow range of parameter values\n",
    "        - Choose the set of parameters that minimizes mean squared error\n",
    "    - Grid search is appropriate for final estimates\n",
    "        - Tries all combinations of parameters\n",
    "6. Evaluate model using validation dataset"
   ]
  },
  {
   "cell_type": "code",
   "execution_count": 3,
   "metadata": {},
   "outputs": [],
   "source": [
    "# general random forest regressor\n",
    "rf_model = RandomForestRegressor(random_state = 123)\n",
    "\n",
    "# function that evaluates the model\n",
    "def evaluate(model, test_pred, test_resp):\n",
    "    # predictions\n",
    "    predict = model.predict(test_pred)\n",
    "    # metrics on test data\n",
    "    test_mae = mean_absolute_error(test_resp,  predict)\n",
    "    test_mse = mean_squared_error(test_resp,  predict)\n",
    "    # print results\n",
    "    print(\"Mean Absolute Error: %s\" %test_mae)\n",
    "    print(\"Mean Squared Error: %s\" %test_mse)"
   ]
  },
  {
   "cell_type": "code",
   "execution_count": 4,
   "metadata": {},
   "outputs": [
    {
     "name": "stdout",
     "output_type": "stream",
     "text": [
      "Mean Absolute Error: 124628.17442109779\n",
      "Mean Squared Error: 43352277985.34949\n"
     ]
    }
   ],
   "source": [
    "# evaluate the base model\n",
    "base_model = RandomForestRegressor(n_estimators = 10, random_state = 123)\n",
    "base_model.fit(X_train, y_train.values.ravel())\n",
    "evaluate(base_model, X_val, y_val.values.ravel())"
   ]
  },
  {
   "cell_type": "code",
   "execution_count": 5,
   "metadata": {},
   "outputs": [
    {
     "data": {
      "text/plain": [
       "{'n_estimators': 100,\n",
       " 'min_samples_split': 2,\n",
       " 'min_samples_leaf': 1,\n",
       " 'max_features': 'sqrt',\n",
       " 'max_depth': None,\n",
       " 'bootstrap': True}"
      ]
     },
     "execution_count": 5,
     "metadata": {},
     "output_type": "execute_result"
    }
   ],
   "source": [
    "# random search grid\n",
    "random_grid = {\n",
    "    'bootstrap': [True, False],\n",
    "    'max_depth': [None, 10, 25, 50, 75, 100],\n",
    "    'max_features': ['auto', 'sqrt'],\n",
    "    'min_samples_leaf': [1, 2, 4],\n",
    "    'min_samples_split': [2, 5, 10],\n",
    "    'n_estimators': [100, 500, 1000, 1500, 2000]}\n",
    "\n",
    "# fit random search\n",
    "rf_random = RandomizedSearchCV(estimator = rf_model, param_distributions = random_grid, n_iter = \n",
    "                               100, cv = 3, scoring = 'neg_mean_squared_error', random_state = 123)\n",
    "rf_random.fit(X_train, y_train.values.ravel())\n",
    "\n",
    "# output best parameters from random search\n",
    "rf_random.best_params_"
   ]
  },
  {
   "cell_type": "code",
   "execution_count": 6,
   "metadata": {},
   "outputs": [
    {
     "name": "stdout",
     "output_type": "stream",
     "text": [
      "Mean Absolute Error: 115140.43117276231\n",
      "Mean Squared Error: 37084419780.288284\n"
     ]
    }
   ],
   "source": [
    "# evaluate best random search model\n",
    "best_random = rf_random.best_estimator_\n",
    "evaluate(best_random, X_val, y_val.values.ravel())"
   ]
  },
  {
   "cell_type": "code",
   "execution_count": 7,
   "metadata": {},
   "outputs": [
    {
     "data": {
      "text/plain": [
       "{'bootstrap': True,\n",
       " 'max_depth': None,\n",
       " 'max_features': 'sqrt',\n",
       " 'min_samples_leaf': 1,\n",
       " 'min_samples_split': 2,\n",
       " 'n_estimators': 100}"
      ]
     },
     "execution_count": 7,
     "metadata": {},
     "output_type": "execute_result"
    }
   ],
   "source": [
    "# grid search parameters\n",
    "params_grid = {\n",
    "    'bootstrap': [True],\n",
    "    'max_depth': [None],\n",
    "    'max_features': ['sqrt'],\n",
    "    'min_samples_leaf': [1],\n",
    "    'min_samples_split': [2, 3],\n",
    "    'n_estimators': [50, 100, 200, 300]}\n",
    "\n",
    "# fit grid search\n",
    "rf_grid = GridSearchCV(estimator = rf_model, param_grid = params_grid, cv = 3, scoring = \n",
    "                       'neg_mean_squared_error')\n",
    "rf_grid.fit(X_train, y_train.values.ravel())\n",
    "\n",
    "# output best parameters from grid search\n",
    "rf_grid.best_params_"
   ]
  },
  {
   "cell_type": "code",
   "execution_count": 8,
   "metadata": {},
   "outputs": [
    {
     "name": "stdout",
     "output_type": "stream",
     "text": [
      "Mean Absolute Error: 115140.43117276231\n",
      "Mean Squared Error: 37084419780.288284\n"
     ]
    }
   ],
   "source": [
    "# evaluate best grid search model\n",
    "best_grid = rf_grid.best_estimator_\n",
    "evaluate(best_grid, X_val, y_val.values.ravel())"
   ]
  },
  {
   "cell_type": "markdown",
   "metadata": {},
   "source": [
    "## Final Random Forest Model\n",
    "- Train a model with best parameters found from grid search\n",
    "- Evaluate the model using the test dataset\n",
    "    - The model is not overfitted\n",
    "        - The mean absolute error for training and test datasets are similar\n",
    "        - The mean squared error for training and test datasets are similar"
   ]
  },
  {
   "cell_type": "code",
   "execution_count": 9,
   "metadata": {},
   "outputs": [
    {
     "name": "stdout",
     "output_type": "stream",
     "text": [
      "Mean Absolute Error: 117519.3716518146\n",
      "Mean Squared Error: 44596532085.3743\n"
     ]
    }
   ],
   "source": [
    "# check model performance on the test dataset\n",
    "final_model = RandomForestRegressor(n_estimators = 100, min_samples_split = 2, min_samples_leaf = \n",
    "                                    1, max_features = 'sqrt', bootstrap = True, max_depth = None, \n",
    "                                    random_state = 123)\n",
    "final_model.fit(X_train, y_train.values.ravel())\n",
    "evaluate(final_model, X_test, y_test.values.ravel())"
   ]
  },
  {
   "cell_type": "code",
   "execution_count": 28,
   "metadata": {},
   "outputs": [
    {
     "name": "stdout",
     "output_type": "stream",
     "text": [
      "Stored 'final_model' (RandomForestRegressor)\n"
     ]
    }
   ],
   "source": [
    "# store final model\n",
    "%store final_model"
   ]
  },
  {
   "cell_type": "markdown",
   "metadata": {},
   "source": [
    "## Dataframe for Analysis\n",
    "Steps to Create Dataframe for Test Data\n",
    "1. Create dataframe rf_test_data with test rows by making a copy of y_test\n",
    "2. Add columns 'predictions', 'difference', and 'abs_difference' to rf_test_data\n",
    "3. Inner join data_pandas and rf_test_data\n",
    "    - rf_test_data now has columns from data_pandas\n",
    "4. Save the dataframe\n",
    "    - Dataframe used in *WashingtonHouseSales-RandomForestAnalysis* program"
   ]
  },
  {
   "cell_type": "code",
   "execution_count": 89,
   "metadata": {},
   "outputs": [
    {
     "data": {
      "text/html": [
       "<div>\n",
       "<style scoped>\n",
       "    .dataframe tbody tr th:only-of-type {\n",
       "        vertical-align: middle;\n",
       "    }\n",
       "\n",
       "    .dataframe tbody tr th {\n",
       "        vertical-align: top;\n",
       "    }\n",
       "\n",
       "    .dataframe thead th {\n",
       "        text-align: right;\n",
       "    }\n",
       "</style>\n",
       "<table border=\"1\" class=\"dataframe\">\n",
       "  <thead>\n",
       "    <tr style=\"text-align: right;\">\n",
       "      <th></th>\n",
       "      <th>price</th>\n",
       "    </tr>\n",
       "  </thead>\n",
       "  <tbody>\n",
       "    <tr>\n",
       "      <th>2760</th>\n",
       "      <td>212000.00</td>\n",
       "    </tr>\n",
       "    <tr>\n",
       "      <th>1520</th>\n",
       "      <td>681500.00</td>\n",
       "    </tr>\n",
       "    <tr>\n",
       "      <th>594</th>\n",
       "      <td>255000.00</td>\n",
       "    </tr>\n",
       "    <tr>\n",
       "      <th>2083</th>\n",
       "      <td>636000.00</td>\n",
       "    </tr>\n",
       "    <tr>\n",
       "      <th>2564</th>\n",
       "      <td>400000.00</td>\n",
       "    </tr>\n",
       "  </tbody>\n",
       "</table>\n",
       "</div>"
      ],
      "text/plain": [
       "         price\n",
       "2760 212000.00\n",
       "1520 681500.00\n",
       "594  255000.00\n",
       "2083 636000.00\n",
       "2564 400000.00"
      ]
     },
     "execution_count": 89,
     "metadata": {},
     "output_type": "execute_result"
    }
   ],
   "source": [
    "# create dataframe\n",
    "rf_test_data = y_test\n",
    "rf_test_data.head()"
   ]
  },
  {
   "cell_type": "code",
   "execution_count": 90,
   "metadata": {},
   "outputs": [
    {
     "data": {
      "text/html": [
       "<div>\n",
       "<style scoped>\n",
       "    .dataframe tbody tr th:only-of-type {\n",
       "        vertical-align: middle;\n",
       "    }\n",
       "\n",
       "    .dataframe tbody tr th {\n",
       "        vertical-align: top;\n",
       "    }\n",
       "\n",
       "    .dataframe thead th {\n",
       "        text-align: right;\n",
       "    }\n",
       "</style>\n",
       "<table border=\"1\" class=\"dataframe\">\n",
       "  <thead>\n",
       "    <tr style=\"text-align: right;\">\n",
       "      <th></th>\n",
       "      <th>predictions</th>\n",
       "      <th>difference</th>\n",
       "      <th>abs_difference</th>\n",
       "    </tr>\n",
       "  </thead>\n",
       "  <tbody>\n",
       "    <tr>\n",
       "      <th>2760</th>\n",
       "      <td>326103.67</td>\n",
       "      <td>-114103.67</td>\n",
       "      <td>114103.67</td>\n",
       "    </tr>\n",
       "    <tr>\n",
       "      <th>1520</th>\n",
       "      <td>806111.77</td>\n",
       "      <td>-124611.77</td>\n",
       "      <td>124611.77</td>\n",
       "    </tr>\n",
       "    <tr>\n",
       "      <th>594</th>\n",
       "      <td>325703.33</td>\n",
       "      <td>-70703.33</td>\n",
       "      <td>70703.33</td>\n",
       "    </tr>\n",
       "    <tr>\n",
       "      <th>2083</th>\n",
       "      <td>553567.90</td>\n",
       "      <td>82432.10</td>\n",
       "      <td>82432.10</td>\n",
       "    </tr>\n",
       "    <tr>\n",
       "      <th>2564</th>\n",
       "      <td>436060.50</td>\n",
       "      <td>-36060.50</td>\n",
       "      <td>36060.50</td>\n",
       "    </tr>\n",
       "  </tbody>\n",
       "</table>\n",
       "</div>"
      ],
      "text/plain": [
       "      predictions  difference  abs_difference\n",
       "2760    326103.67  -114103.67       114103.67\n",
       "1520    806111.77  -124611.77       124611.77\n",
       "594     325703.33   -70703.33        70703.33\n",
       "2083    553567.90    82432.10        82432.10\n",
       "2564    436060.50   -36060.50        36060.50"
      ]
     },
     "execution_count": 90,
     "metadata": {},
     "output_type": "execute_result"
    }
   ],
   "source": [
    "# create predictions dataframe\n",
    "predictions = final_model.predict(X_test)\n",
    "rf_test_data['predictions'] = predictions\n",
    "rf_test_data['difference'] = rf_test_data['price'] - rf_test_data['predictions']\n",
    "rf_test_data['abs_difference'] = rf_test_data['difference'].abs()\n",
    "rf_test_data = rf_test_data[['predictions', 'difference', 'abs_difference']]\n",
    "rf_test_data.head()"
   ]
  },
  {
   "cell_type": "code",
   "execution_count": 91,
   "metadata": {},
   "outputs": [
    {
     "data": {
      "text/html": [
       "<div>\n",
       "<style scoped>\n",
       "    .dataframe tbody tr th:only-of-type {\n",
       "        vertical-align: middle;\n",
       "    }\n",
       "\n",
       "    .dataframe tbody tr th {\n",
       "        vertical-align: top;\n",
       "    }\n",
       "\n",
       "    .dataframe thead th {\n",
       "        text-align: right;\n",
       "    }\n",
       "</style>\n",
       "<table border=\"1\" class=\"dataframe\">\n",
       "  <thead>\n",
       "    <tr style=\"text-align: right;\">\n",
       "      <th></th>\n",
       "      <th>price</th>\n",
       "      <th>bedroom</th>\n",
       "      <th>bathroom</th>\n",
       "      <th>sqftLot</th>\n",
       "      <th>floors</th>\n",
       "      <th>waterfront</th>\n",
       "      <th>view</th>\n",
       "      <th>condition</th>\n",
       "      <th>sqftAbove</th>\n",
       "      <th>sqftBelow</th>\n",
       "      <th>yrBuilt</th>\n",
       "      <th>yrWorked</th>\n",
       "      <th>location</th>\n",
       "    </tr>\n",
       "  </thead>\n",
       "  <tbody>\n",
       "    <tr>\n",
       "      <th>0</th>\n",
       "      <td>313000.00</td>\n",
       "      <td>3.00</td>\n",
       "      <td>1.50</td>\n",
       "      <td>7912</td>\n",
       "      <td>1.50</td>\n",
       "      <td>0</td>\n",
       "      <td>0</td>\n",
       "      <td>3</td>\n",
       "      <td>1340</td>\n",
       "      <td>0</td>\n",
       "      <td>1955</td>\n",
       "      <td>2005</td>\n",
       "      <td>Seattle</td>\n",
       "    </tr>\n",
       "    <tr>\n",
       "      <th>1</th>\n",
       "      <td>260000.00</td>\n",
       "      <td>4.00</td>\n",
       "      <td>2.00</td>\n",
       "      <td>8625</td>\n",
       "      <td>1.00</td>\n",
       "      <td>0</td>\n",
       "      <td>0</td>\n",
       "      <td>4</td>\n",
       "      <td>1480</td>\n",
       "      <td>0</td>\n",
       "      <td>1974</td>\n",
       "      <td>1974</td>\n",
       "      <td>South Urban</td>\n",
       "    </tr>\n",
       "    <tr>\n",
       "      <th>2</th>\n",
       "      <td>469000.00</td>\n",
       "      <td>2.00</td>\n",
       "      <td>1.00</td>\n",
       "      <td>4400</td>\n",
       "      <td>1.00</td>\n",
       "      <td>0</td>\n",
       "      <td>0</td>\n",
       "      <td>3</td>\n",
       "      <td>1030</td>\n",
       "      <td>0</td>\n",
       "      <td>1924</td>\n",
       "      <td>2011</td>\n",
       "      <td>Seattle</td>\n",
       "    </tr>\n",
       "    <tr>\n",
       "      <th>3</th>\n",
       "      <td>1135000.00</td>\n",
       "      <td>4.00</td>\n",
       "      <td>2.75</td>\n",
       "      <td>8103</td>\n",
       "      <td>1.00</td>\n",
       "      <td>0</td>\n",
       "      <td>3</td>\n",
       "      <td>3</td>\n",
       "      <td>1970</td>\n",
       "      <td>1400</td>\n",
       "      <td>1970</td>\n",
       "      <td>2014</td>\n",
       "      <td>Seattle</td>\n",
       "    </tr>\n",
       "    <tr>\n",
       "      <th>4</th>\n",
       "      <td>409500.00</td>\n",
       "      <td>4.00</td>\n",
       "      <td>2.75</td>\n",
       "      <td>13000</td>\n",
       "      <td>1.00</td>\n",
       "      <td>0</td>\n",
       "      <td>0</td>\n",
       "      <td>3</td>\n",
       "      <td>1320</td>\n",
       "      <td>820</td>\n",
       "      <td>1968</td>\n",
       "      <td>1997</td>\n",
       "      <td>North</td>\n",
       "    </tr>\n",
       "  </tbody>\n",
       "</table>\n",
       "</div>"
      ],
      "text/plain": [
       "       price  bedroom  bathroom  sqftLot  floors  waterfront  view  condition  \\\n",
       "0  313000.00     3.00      1.50     7912    1.50           0     0          3   \n",
       "1  260000.00     4.00      2.00     8625    1.00           0     0          4   \n",
       "2  469000.00     2.00      1.00     4400    1.00           0     0          3   \n",
       "3 1135000.00     4.00      2.75     8103    1.00           0     3          3   \n",
       "4  409500.00     4.00      2.75    13000    1.00           0     0          3   \n",
       "\n",
       "   sqftAbove  sqftBelow  yrBuilt  yrWorked     location  \n",
       "0       1340          0     1955      2005      Seattle  \n",
       "1       1480          0     1974      1974  South Urban  \n",
       "2       1030          0     1924      2011      Seattle  \n",
       "3       1970       1400     1970      2014      Seattle  \n",
       "4       1320        820     1968      1997        North  "
      ]
     },
     "execution_count": 91,
     "metadata": {},
     "output_type": "execute_result"
    }
   ],
   "source": [
    "# import dataframe\n",
    "%store -r data_pandas\n",
    "data_pandas.head()"
   ]
  },
  {
   "cell_type": "code",
   "execution_count": 92,
   "metadata": {},
   "outputs": [
    {
     "data": {
      "text/html": [
       "<div>\n",
       "<style scoped>\n",
       "    .dataframe tbody tr th:only-of-type {\n",
       "        vertical-align: middle;\n",
       "    }\n",
       "\n",
       "    .dataframe tbody tr th {\n",
       "        vertical-align: top;\n",
       "    }\n",
       "\n",
       "    .dataframe thead th {\n",
       "        text-align: right;\n",
       "    }\n",
       "</style>\n",
       "<table border=\"1\" class=\"dataframe\">\n",
       "  <thead>\n",
       "    <tr style=\"text-align: right;\">\n",
       "      <th></th>\n",
       "      <th>predictions</th>\n",
       "      <th>difference</th>\n",
       "      <th>abs_difference</th>\n",
       "      <th>price</th>\n",
       "      <th>bedroom</th>\n",
       "      <th>bathroom</th>\n",
       "      <th>sqftLot</th>\n",
       "      <th>floors</th>\n",
       "      <th>waterfront</th>\n",
       "      <th>view</th>\n",
       "      <th>condition</th>\n",
       "      <th>sqftAbove</th>\n",
       "      <th>sqftBelow</th>\n",
       "      <th>yrBuilt</th>\n",
       "      <th>yrWorked</th>\n",
       "      <th>location</th>\n",
       "    </tr>\n",
       "  </thead>\n",
       "  <tbody>\n",
       "    <tr>\n",
       "      <th>0</th>\n",
       "      <td>326103.67</td>\n",
       "      <td>-114103.67</td>\n",
       "      <td>114103.67</td>\n",
       "      <td>212000.00</td>\n",
       "      <td>2.00</td>\n",
       "      <td>1.50</td>\n",
       "      <td>1525</td>\n",
       "      <td>2.00</td>\n",
       "      <td>0</td>\n",
       "      <td>0</td>\n",
       "      <td>3</td>\n",
       "      <td>1020</td>\n",
       "      <td>0</td>\n",
       "      <td>2004</td>\n",
       "      <td>2004</td>\n",
       "      <td>Seattle</td>\n",
       "    </tr>\n",
       "    <tr>\n",
       "      <th>1</th>\n",
       "      <td>806111.77</td>\n",
       "      <td>-124611.77</td>\n",
       "      <td>124611.77</td>\n",
       "      <td>681500.00</td>\n",
       "      <td>5.00</td>\n",
       "      <td>2.75</td>\n",
       "      <td>11700</td>\n",
       "      <td>1.00</td>\n",
       "      <td>0</td>\n",
       "      <td>0</td>\n",
       "      <td>3</td>\n",
       "      <td>1630</td>\n",
       "      <td>1630</td>\n",
       "      <td>1964</td>\n",
       "      <td>2000</td>\n",
       "      <td>East Urban</td>\n",
       "    </tr>\n",
       "    <tr>\n",
       "      <th>2</th>\n",
       "      <td>325703.33</td>\n",
       "      <td>-70703.33</td>\n",
       "      <td>70703.33</td>\n",
       "      <td>255000.00</td>\n",
       "      <td>3.00</td>\n",
       "      <td>1.75</td>\n",
       "      <td>9720</td>\n",
       "      <td>1.00</td>\n",
       "      <td>0</td>\n",
       "      <td>0</td>\n",
       "      <td>3</td>\n",
       "      <td>1050</td>\n",
       "      <td>500</td>\n",
       "      <td>1976</td>\n",
       "      <td>1976</td>\n",
       "      <td>South Rural</td>\n",
       "    </tr>\n",
       "    <tr>\n",
       "      <th>3</th>\n",
       "      <td>553567.90</td>\n",
       "      <td>82432.10</td>\n",
       "      <td>82432.10</td>\n",
       "      <td>636000.00</td>\n",
       "      <td>2.00</td>\n",
       "      <td>1.75</td>\n",
       "      <td>3600</td>\n",
       "      <td>1.50</td>\n",
       "      <td>0</td>\n",
       "      <td>0</td>\n",
       "      <td>5</td>\n",
       "      <td>1230</td>\n",
       "      <td>0</td>\n",
       "      <td>1925</td>\n",
       "      <td>1925</td>\n",
       "      <td>Seattle</td>\n",
       "    </tr>\n",
       "    <tr>\n",
       "      <th>4</th>\n",
       "      <td>436060.50</td>\n",
       "      <td>-36060.50</td>\n",
       "      <td>36060.50</td>\n",
       "      <td>400000.00</td>\n",
       "      <td>3.00</td>\n",
       "      <td>2.25</td>\n",
       "      <td>11266</td>\n",
       "      <td>2.00</td>\n",
       "      <td>0</td>\n",
       "      <td>0</td>\n",
       "      <td>3</td>\n",
       "      <td>2140</td>\n",
       "      <td>0</td>\n",
       "      <td>1986</td>\n",
       "      <td>1986</td>\n",
       "      <td>East Rural</td>\n",
       "    </tr>\n",
       "  </tbody>\n",
       "</table>\n",
       "</div>"
      ],
      "text/plain": [
       "   predictions  difference  abs_difference     price  bedroom  bathroom  \\\n",
       "0    326103.67  -114103.67       114103.67 212000.00     2.00      1.50   \n",
       "1    806111.77  -124611.77       124611.77 681500.00     5.00      2.75   \n",
       "2    325703.33   -70703.33        70703.33 255000.00     3.00      1.75   \n",
       "3    553567.90    82432.10        82432.10 636000.00     2.00      1.75   \n",
       "4    436060.50   -36060.50        36060.50 400000.00     3.00      2.25   \n",
       "\n",
       "   sqftLot  floors  waterfront  view  condition  sqftAbove  sqftBelow  \\\n",
       "0     1525    2.00           0     0          3       1020          0   \n",
       "1    11700    1.00           0     0          3       1630       1630   \n",
       "2     9720    1.00           0     0          3       1050        500   \n",
       "3     3600    1.50           0     0          5       1230          0   \n",
       "4    11266    2.00           0     0          3       2140          0   \n",
       "\n",
       "   yrBuilt  yrWorked     location  \n",
       "0     2004      2004      Seattle  \n",
       "1     1964      2000   East Urban  \n",
       "2     1976      1976  South Rural  \n",
       "3     1925      1925      Seattle  \n",
       "4     1986      1986   East Rural  "
      ]
     },
     "execution_count": 92,
     "metadata": {},
     "output_type": "execute_result"
    }
   ],
   "source": [
    "# merge dataframes\n",
    "rf_test_data = rf_test_data.merge(data_pandas, how='inner', left_index=True, right_index=True)\n",
    "rf_test_data = rf_test_data.reset_index(drop=True)\n",
    "rf_test_data.head()"
   ]
  },
  {
   "cell_type": "code",
   "execution_count": 93,
   "metadata": {},
   "outputs": [
    {
     "name": "stdout",
     "output_type": "stream",
     "text": [
      "Stored 'rf_test_data' (DataFrame)\n"
     ]
    }
   ],
   "source": [
    "# save dataframe \n",
    "%store rf_test_data"
   ]
  },
  {
   "cell_type": "code",
   "execution_count": null,
   "metadata": {},
   "outputs": [],
   "source": []
  }
 ],
 "metadata": {
  "kernelspec": {
   "display_name": "Python 3",
   "language": "python",
   "name": "python3"
  },
  "language_info": {
   "codemirror_mode": {
    "name": "ipython",
    "version": 3
   },
   "file_extension": ".py",
   "mimetype": "text/x-python",
   "name": "python",
   "nbconvert_exporter": "python",
   "pygments_lexer": "ipython3",
   "version": "3.7.1"
  }
 },
 "nbformat": 4,
 "nbformat_minor": 2
}
